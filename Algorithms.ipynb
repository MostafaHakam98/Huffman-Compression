{
 "cells": [
  {
   "cell_type": "code",
   "execution_count": 46,
   "metadata": {},
   "outputs": [],
   "source": [
    "import numpy as np"
   ]
  },
  {
   "cell_type": "code",
   "execution_count": 48,
   "metadata": {
    "scrolled": true
   },
   "outputs": [],
   "source": [
    "class fileClass:\n",
    "    f = None\n",
    "    array = []\n",
    "\n",
    "    def __init__(path, self):\n",
    "        self.f = open(path, \"r\")\n",
    "        \n",
    "    def readFile(self): \n",
    "        while (self.f):\n",
    "            line = self.f.read(1)\n",
    "            self.array.append(line)\n",
    "            if line == '':\n",
    "                break;"
   ]
  }
 ],
 "metadata": {
  "kernelspec": {
   "display_name": "Python 3",
   "language": "python",
   "name": "python3"
  }
 },
 "nbformat": 4,
 "nbformat_minor": 4
}
