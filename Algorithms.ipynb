{
 "cells": [
  {
   "cell_type": "code",
   "execution_count": 7,
   "metadata": {},
   "outputs": [],
   "source": [
    "import numpy as np\n",
    "import heapq"
   ]
  },
  {
   "cell_type": "code",
   "execution_count": 8,
   "metadata": {
    "scrolled": true
   },
   "outputs": [],
   "source": [
    "class fileClass:\n",
    "    f = None\n",
    "    array = []\n",
    "    data_dict={}\n",
    "    sorted_dict={}\n",
    "    tree=None\n",
    "    def __init__(self,path):\n",
    "        self.f = open(path, \"r\")\n",
    "        \n",
    "        self.array = []\n",
    "        self.data_dict={}\n",
    "        self.sorted_dict={}\n",
    "        self.tree=None\n",
    "    def readFile(self):\n",
    "        line=\" \"\n",
    "        while line!='':\n",
    "            line = self.f.read(1)\n",
    "            self.array.append(line)\n",
    "            if line in self.data_dict.keys():\n",
    "                self.data_dict[line]+=1\n",
    "                continue\n",
    "            self.data_dict[line]=1\n",
    "        self.sort_dict()\n",
    "    def sort_dict(self):\n",
    "        self.sorted_dict = dict(sorted(self.data_dict.items(),key=lambda x:x[1]))\n",
    "\n",
    " "
   ]
  },
  {
   "cell_type": "code",
   "execution_count": 9,
   "metadata": {},
   "outputs": [],
   "source": [
    "class Node:\n",
    "    left=None\n",
    "    right=None\n",
    "    parent=None\n",
    "    val=0\n",
    "    let=None\n",
    "    isRight=''\n",
    "    def __init__(self,val,parent=None,isRight=0,let=None):\n",
    "        self.parent=parent\n",
    "        self.val=val\n",
    "        self.let=let\n",
    "        self.isRight=isRight\n",
    "    def __lt__(self,other):\n",
    "        return self.val<=other.val\n",
    "    def __str__(self):\n",
    "        if self.let!=None:\n",
    "            return \"Node with value=\"+str(self.val)+\" and letter=\"+self.let\n",
    "        else:\n",
    "            return \"Node with value=\"+str(self.val)"
   ]
  },
  {
   "cell_type": "code",
   "execution_count": 46,
   "metadata": {},
   "outputs": [],
   "source": [
    "class Tree:\n",
    "    root=None\n",
    "    new_codes={}\n",
    "    def __init__(self,root):\n",
    "        self.root=root\n",
    "        \n",
    "    def dfs(self,goal):\n",
    "        frontier = [] #using a stack data structure, to perform a last in first out protocol to go deep inside the tree before going the sibling node\n",
    "        frontier.append(self.root)\n",
    "        explored = []\n",
    "        while frontier:\n",
    "            node = frontier.pop()\n",
    "            explored.append(node)\n",
    "            if node.let==goal:\n",
    "                return node\n",
    "            if node.left != None and node.left not in explored:\n",
    "                frontier.append(node.left)\n",
    "            if node.right != None and node.right not in explored:\n",
    "                frontier.append(node.right)\n",
    "                \n",
    "        return None\n",
    "        \n",
    "            \n",
    "        #return None\n",
    "    def get_ancestral_chain(self,node):\n",
    "        current=node\n",
    "        chain=[current]\n",
    "        while current.parent!=None:\n",
    "            current=current.parent\n",
    "            chain.append(current)\n",
    "        return chain\n",
    "    def construct_new_codes(self,old_codes):\n",
    "        for i in list(old_codes.keys()):\n",
    "            node=self.dfs(goal=i)\n",
    "            chain=self.get_ancestral_chain(node)\n",
    "            code=\"\"\n",
    "            while(len(chain)>0):\n",
    "                next_el=chain.pop()\n",
    "                if(next_el.isRight!=None):\n",
    "                    code+=str(next_el.isRight)        \n",
    "            self.new_codes[i]=code\n",
    "            print(code)\n",
    "            \n",
    "        "
   ]
  },
  {
   "cell_type": "code",
   "execution_count": 47,
   "metadata": {},
   "outputs": [],
   "source": [
    "class Huffman:\n",
    "    file=None\n",
    "    def __init__(self,file):\n",
    "        self.file=file\n",
    "    def construct_file_tree(self):\n",
    "        min_heap=[]\n",
    "        parent=None\n",
    "        for i in file.sorted_dict.keys():\n",
    "            node=Node(val=self.file.sorted_dict[i],let=i)\n",
    "            heapq.heappush(min_heap,node)\n",
    "        while(len(min_heap)>1):\n",
    "            node1=heapq.heappop(min_heap)\n",
    "            node2=heapq.heappop(min_heap)\n",
    "            parent=Node(val=node1.val+node2.val)\n",
    "            node1.parent=node2.parent=parent\n",
    "            if node1<node2:\n",
    "                node1.isRight='0'\n",
    "                node2.isRight='1'\n",
    "                parent.left=node1\n",
    "                parent.right=node2\n",
    "            else:\n",
    "                node1.isRight='1'\n",
    "                node2.isRight='0'\n",
    "                parent.left=node2\n",
    "                parent.right=node1\n",
    "            heapq.heappush(min_heap,parent)\n",
    "        parent.isRight=None\n",
    "        self.file.tree=Tree(parent)\n",
    "            \n",
    "            "
   ]
  },
  {
   "cell_type": "code",
   "execution_count": 48,
   "metadata": {},
   "outputs": [
    {
     "name": "stdout",
     "output_type": "stream",
     "text": [
      "[WinError 2] The system cannot find the file specified: 'Huffman_project'\n",
      "C:\\Users\\Ayman\\Desktop\\Huffman_project\n"
     ]
    }
   ],
   "source": [
    "cd Huffman_project"
   ]
  },
  {
   "cell_type": "code",
   "execution_count": 49,
   "metadata": {},
   "outputs": [
    {
     "data": {
      "text/plain": [
       "1"
      ]
     },
     "execution_count": 49,
     "metadata": {},
     "output_type": "execute_result"
    }
   ],
   "source": [
    "file=fileClass(\"file.txt\")\n",
    "file.readFile()\n",
    "file.data_dict.pop('')\n",
    "file.sorted_dict.pop('')"
   ]
  },
  {
   "cell_type": "code",
   "execution_count": 50,
   "metadata": {},
   "outputs": [],
   "source": [
    "huf=Huffman(file)"
   ]
  },
  {
   "cell_type": "code",
   "execution_count": 51,
   "metadata": {},
   "outputs": [],
   "source": [
    "huf.construct_file_tree()"
   ]
  },
  {
   "cell_type": "code",
   "execution_count": 52,
   "metadata": {},
   "outputs": [],
   "source": [
    "n=file.tree.dfs(goal='a')\n"
   ]
  },
  {
   "cell_type": "code",
   "execution_count": 53,
   "metadata": {},
   "outputs": [
    {
     "name": "stdout",
     "output_type": "stream",
     "text": [
      "Node with value=100\n"
     ]
    }
   ],
   "source": [
    "chain=file.tree.get_ancestral_chain(n)\n",
    "print(chain[1])"
   ]
  },
  {
   "cell_type": "code",
   "execution_count": 54,
   "metadata": {},
   "outputs": [
    {
     "name": "stdout",
     "output_type": "stream",
     "text": [
      "0\n",
      "101\n",
      "100\n",
      "111\n",
      "1101\n",
      "1100\n"
     ]
    }
   ],
   "source": [
    "file.tree.construct_new_codes(old_codes)"
   ]
  },
  {
   "cell_type": "code",
   "execution_count": 55,
   "metadata": {},
   "outputs": [
    {
     "data": {
      "text/plain": [
       "{'a': '0', 'b': '101', 'c': '100', 'd': '111', 'e': '1101', 'f': '1100'}"
      ]
     },
     "execution_count": 55,
     "metadata": {},
     "output_type": "execute_result"
    }
   ],
   "source": [
    "file.tree.new_codes"
   ]
  },
  {
   "cell_type": "code",
   "execution_count": null,
   "metadata": {},
   "outputs": [],
   "source": []
  },
  {
   "cell_type": "code",
   "execution_count": 44,
   "metadata": {},
   "outputs": [],
   "source": [
    "old_codes={'a':\"000\",'b':\"001\",'c':\"010\",'d':\"011\",'e':\"100\",'f':\"101\"}"
   ]
  },
  {
   "cell_type": "code",
   "execution_count": 446,
   "metadata": {},
   "outputs": [
    {
     "data": {
      "text/plain": [
       "{'a': '000', 'b': '001', 'c': '010', 'd': '011', 'e': '100', 'f': '101'}"
      ]
     },
     "execution_count": 446,
     "metadata": {},
     "output_type": "execute_result"
    }
   ],
   "source": [
    "old_codes"
   ]
  },
  {
   "cell_type": "code",
   "execution_count": null,
   "metadata": {},
   "outputs": [],
   "source": []
  }
 ],
 "metadata": {
  "kernelspec": {
   "display_name": "Python 3",
   "language": "python",
   "name": "python3"
  },
  "language_info": {
   "codemirror_mode": {
    "name": "ipython",
    "version": 3
   },
   "file_extension": ".py",
   "mimetype": "text/x-python",
   "name": "python",
   "nbconvert_exporter": "python",
   "pygments_lexer": "ipython3",
   "version": "3.8.3"
  }
 },
 "nbformat": 4,
 "nbformat_minor": 4
}
