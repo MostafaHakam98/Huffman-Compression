{
 "cells": [
  {
   "cell_type": "code",
   "execution_count": 43,
   "metadata": {},
   "outputs": [],
   "source": [
    "import numpy as np\n",
    "import heapq\n",
    "import pandas as pd"
   ]
  },
  {
   "cell_type": "code",
   "execution_count": 44,
   "metadata": {
    "scrolled": true
   },
   "outputs": [],
   "source": [
    "class fileClass:\n",
    "    f = None\n",
    "    array = []\n",
    "    data_dict={}\n",
    "    sorted_dict={}\n",
    "    tree=None\n",
    "    def __init__(self,path):\n",
    "        self.f = open(path, \"r\")\n",
    "        \n",
    "        self.array = []\n",
    "        self.data_dict={}\n",
    "        self.sorted_dict={}\n",
    "        self.tree=None\n",
    "    def readFile(self):\n",
    "        line=\" \"\n",
    "        while line!='':\n",
    "            line = self.f.read(1)\n",
    "            self.array.append(line)\n",
    "            if line in self.data_dict.keys():\n",
    "                self.data_dict[line]+=1\n",
    "                continue\n",
    "            self.data_dict[line]=1\n",
    "        self.sort_dict()\n",
    "    def sort_dict(self):\n",
    "        self.sorted_dict = dict(sorted(self.data_dict.items(),key=lambda x:x[1]))\n",
    "\n",
    " "
   ]
  },
  {
   "cell_type": "code",
   "execution_count": 45,
   "metadata": {},
   "outputs": [],
   "source": [
    "class Node:\n",
    "    left=None\n",
    "    right=None\n",
    "    parent=None\n",
    "    val=0\n",
    "    let=None\n",
    "    isRight=''\n",
    "    def __init__(self,val,parent=None,isRight=0,let=None):\n",
    "        self.parent=parent\n",
    "        self.val=val\n",
    "        self.let=let\n",
    "        self.isRight=isRight\n",
    "    def __lt__(self,other):\n",
    "        return self.val<=other.val\n",
    "    def __str__(self):\n",
    "        if self.let!=None:\n",
    "            return \"Node with value=\"+str(self.val)+\" and letter=\"+self.let\n",
    "        else:\n",
    "            return \"Node with value=\"+str(self.val)"
   ]
  },
  {
   "cell_type": "code",
   "execution_count": 46,
   "metadata": {},
   "outputs": [],
   "source": [
    "class Tree:\n",
    "    root=None\n",
    "    new_codes={}\n",
    "    def __init__(self,root):\n",
    "        self.root=root\n",
    "        \n",
    "    def dfs(self,goal):\n",
    "        frontier = [] #using a stack data structure, to perform a last \n",
    "                        #in first out protocol to go deep inside the tree before going the sibling node\n",
    "        frontier.append(self.root)\n",
    "        explored = []\n",
    "        while frontier:\n",
    "            node = frontier.pop()\n",
    "            explored.append(node)\n",
    "            if node.let==goal:\n",
    "                return node\n",
    "            if node.left != None and node.left not in explored:\n",
    "                frontier.append(node.left)\n",
    "            if node.right != None and node.right not in explored:\n",
    "                frontier.append(node.right)\n",
    "                \n",
    "        return None\n",
    "        \n",
    "            \n",
    "        #return None\n",
    "    def get_ancestral_chain(self,node):\n",
    "        current=node\n",
    "        chain=[current]\n",
    "        while current.parent!=None:\n",
    "            current=current.parent\n",
    "            chain.append(current)\n",
    "        return chain\n",
    "    def construct_new_codes(self,old_codes):\n",
    "        for i in list(old_codes.keys()):\n",
    "            node=self.dfs(goal=i)\n",
    "            chain=self.get_ancestral_chain(node)\n",
    "            code=\"\"\n",
    "            while(len(chain)>0):\n",
    "                next_el=chain.pop()\n",
    "                if(next_el.isRight!=None):\n",
    "                    code+=str(next_el.isRight)        \n",
    "            self.new_codes[i]=code\n",
    "            #print(code)\n",
    "            \n",
    "        "
   ]
  },
  {
   "cell_type": "code",
   "execution_count": 47,
   "metadata": {},
   "outputs": [],
   "source": [
    "class Huffman:\n",
    "    file=None\n",
    "    def __init__(self,file):\n",
    "        self.file=file\n",
    "    def construct_file_tree(self):\n",
    "        min_heap=[]\n",
    "        parent=None\n",
    "        for i in file.sorted_dict.keys():\n",
    "            node=Node(val=self.file.sorted_dict[i],let=i)\n",
    "            heapq.heappush(min_heap,node)\n",
    "        while(len(min_heap)>1):\n",
    "            node1=heapq.heappop(min_heap)\n",
    "            node2=heapq.heappop(min_heap)\n",
    "            parent=Node(val=node1.val+node2.val)\n",
    "            node1.parent=node2.parent=parent\n",
    "            if node1<node2:\n",
    "                node1.isRight='0'\n",
    "                node2.isRight='1'\n",
    "                parent.left=node1\n",
    "                parent.right=node2\n",
    "            else:\n",
    "                node1.isRight='1'\n",
    "                node2.isRight='0'\n",
    "                parent.left=node2\n",
    "                parent.right=node1\n",
    "            heapq.heappush(min_heap,parent)\n",
    "        parent.isRight=None\n",
    "        self.file.tree=Tree(parent)            "
   ]
  },
  {
   "cell_type": "code",
   "execution_count": 48,
   "metadata": {},
   "outputs": [],
   "source": [
    "#cd Huffman_project"
   ]
  },
  {
   "cell_type": "code",
   "execution_count": 49,
   "metadata": {},
   "outputs": [
    {
     "data": {
      "text/plain": [
       "1"
      ]
     },
     "execution_count": 49,
     "metadata": {},
     "output_type": "execute_result"
    }
   ],
   "source": [
    "file=fileClass(\"file.txt\")\n",
    "file.readFile()\n",
    "file.data_dict.pop('')\n",
    "file.sorted_dict.pop('')"
   ]
  },
  {
   "cell_type": "code",
   "execution_count": 50,
   "metadata": {},
   "outputs": [],
   "source": [
    "huf=Huffman(file)"
   ]
  },
  {
   "cell_type": "code",
   "execution_count": 51,
   "metadata": {},
   "outputs": [],
   "source": [
    "huf.construct_file_tree()"
   ]
  },
  {
   "cell_type": "code",
   "execution_count": 52,
   "metadata": {},
   "outputs": [],
   "source": [
    "n=file.tree.dfs(goal='a')\n"
   ]
  },
  {
   "cell_type": "code",
   "execution_count": 53,
   "metadata": {},
   "outputs": [
    {
     "name": "stdout",
     "output_type": "stream",
     "text": [
      "Node with value=100\n"
     ]
    }
   ],
   "source": [
    "chain=file.tree.get_ancestral_chain(n)\n",
    "print(chain[1])"
   ]
  },
  {
   "cell_type": "code",
   "execution_count": 54,
   "metadata": {},
   "outputs": [],
   "source": [
    "#old_codes={'a':\"000\",'b':\"001\",'c':\"010\",'d':\"011\",'e':\"100\",'f':\"101\"}"
   ]
  },
  {
   "cell_type": "code",
   "execution_count": 55,
   "metadata": {},
   "outputs": [],
   "source": [
    "#old_codes"
   ]
  },
  {
   "cell_type": "code",
   "execution_count": 56,
   "metadata": {},
   "outputs": [],
   "source": [
    "#file.tree.construct_new_codes(old_codes)"
   ]
  },
  {
   "cell_type": "code",
   "execution_count": 57,
   "metadata": {},
   "outputs": [],
   "source": [
    "#file.tree.new_codes"
   ]
  },
  {
   "cell_type": "code",
   "execution_count": 58,
   "metadata": {},
   "outputs": [
    {
     "data": {
      "text/plain": [
       "{'f': 5, 'e': 9, 'c': 12, 'b': 13, 'd': 16, 'a': 45}"
      ]
     },
     "execution_count": 58,
     "metadata": {},
     "output_type": "execute_result"
    }
   ],
   "source": [
    "huf.file.sorted_dict"
   ]
  },
  {
   "cell_type": "code",
   "execution_count": 59,
   "metadata": {},
   "outputs": [],
   "source": [
    "#huf.file.tree.construct_new_codes(huf.file.data_dict)"
   ]
  },
  {
   "cell_type": "code",
   "execution_count": 60,
   "metadata": {},
   "outputs": [
    {
     "data": {
      "text/plain": [
       "{}"
      ]
     },
     "execution_count": 60,
     "metadata": {},
     "output_type": "execute_result"
    }
   ],
   "source": [
    "huf.file.tree.new_codes"
   ]
  },
  {
   "cell_type": "code",
   "execution_count": 61,
   "metadata": {},
   "outputs": [
    {
     "data": {
      "text/plain": [
       "{'f': 5, 'e': 9, 'c': 12, 'b': 13, 'd': 16, 'a': 45}"
      ]
     },
     "execution_count": 61,
     "metadata": {},
     "output_type": "execute_result"
    }
   ],
   "source": [
    "huf.file.sorted_dict"
   ]
  },
  {
   "cell_type": "code",
   "execution_count": 62,
   "metadata": {},
   "outputs": [],
   "source": [
    "def compress(file):\n",
    "    file.tree.construct_new_codes(file.data_dict)\n",
    "    compressed_file = open(\"compressed_file.bin\",'w')\n",
    "    \n",
    "    flag_array = [] #array to know which characters are already printed\n",
    "    \n",
    "    encoded_bits = ''\n",
    "    \n",
    "    character_frame = pd.DataFrame(columns = ['Byte','Code','New Code'])\n",
    "    \n",
    "    for character in file.array:\n",
    "        if(character==''):\n",
    "            break\n",
    "        encoded_bits = encoded_bits + str(file.tree.new_codes[character])\n",
    "        \n",
    "        if(character not in flag_array):\n",
    "            character_frame=character_frame.append({\"Byte\":character,\"Code\":str(bin(ord(character)))[2:],\n",
    "                                    \"New Code\":file.tree.new_codes[character]},ignore_index=True)\n",
    "                        \n",
    "            flag_array.append(character)\n",
    "    \n",
    "    print(character_frame)\n",
    "    \n",
    "    if len(encoded_bits)%8!=0:\n",
    "        for i in range(8-len(encoded_bits)%8):\n",
    "            encoded_bits + '0'                   #padding\n",
    "    \n",
    "    encoded_bits = encoded_bits + \"{0:08b}\".format( (8-len(encoded_bits)%8) )\n",
    "    \n",
    "    byte = ''\n",
    "    for bit in encoded_bits:\n",
    "        byte = byte + bit\n",
    "        if(len(byte)>8):\n",
    "            compressed_file.write(str(int(byte[:8],2)))\n",
    "            byte = bit\n",
    "            \n",
    "    compressed_file.close()"
   ]
  },
  {
   "cell_type": "code",
   "execution_count": 63,
   "metadata": {},
   "outputs": [
    {
     "name": "stdout",
     "output_type": "stream",
     "text": [
      "  Byte     Code New Code\n",
      "0    a  1100001        0\n",
      "1    b  1100010      101\n",
      "2    c  1100011      100\n",
      "3    d  1100100      111\n",
      "4    e  1100101     1101\n",
      "5    f  1100110     1100\n"
     ]
    }
   ],
   "source": [
    "compress(huf.file)"
   ]
  },
  {
   "cell_type": "code",
   "execution_count": 32,
   "metadata": {},
   "outputs": [],
   "source": [
    "def decompress(compressed_file,bit_codes_dict):\n",
    "    decompressed_file = open(\"decompressed_file.txt\",'w')\n",
    "    encoded_bits = compressed_file.readline()\n",
    "    decoded_character_code = ''\n",
    "    print(encoded_bits)\n",
    "    for bit in encoded_bits:\n",
    "        if(bit==''):\n",
    "            break\n",
    "        else:\n",
    "            decoded_character_code = decoded_character_code + str(bit)\n",
    "            if decoded_character_code in bit_codes_dict.values():\n",
    "                #get key of the decoded code\n",
    "                character = list(bit_codes_dict.keys())[list(bit_codes_dict.values()).index(decoded_character_code)]\n",
    "                decompressed_file.write(character)\n",
    "                decoded_character_code = ''\n",
    "    \n",
    "    decompressed_file.close()    "
   ]
  },
  {
   "cell_type": "code",
   "execution_count": 33,
   "metadata": {},
   "outputs": [
    {
     "name": "stdout",
     "output_type": "stream",
     "text": [
      "b'0001110001001110010011101001100001110101100101110111110110111110'\n"
     ]
    }
   ],
   "source": [
    "comp_f = open(\"compressed_file.bin\",'rb')\n",
    "decompress(comp_f,huf.file.tree.new_codes)"
   ]
  },
  {
   "cell_type": "code",
   "execution_count": 24,
   "metadata": {},
   "outputs": [
    {
     "ename": "SyntaxError",
     "evalue": "unexpected EOF while parsing (<ipython-input-24-c21ebc0bc847>, line 1)",
     "output_type": "error",
     "traceback": [
      "\u001b[0;36m  File \u001b[0;32m\"<ipython-input-24-c21ebc0bc847>\"\u001b[0;36m, line \u001b[0;32m1\u001b[0m\n\u001b[0;31m    def print_compression_table():\u001b[0m\n\u001b[0m                                  ^\u001b[0m\n\u001b[0;31mSyntaxError\u001b[0m\u001b[0;31m:\u001b[0m unexpected EOF while parsing\n"
     ]
    }
   ],
   "source": [
    "def print_compression_table():"
   ]
  },
  {
   "cell_type": "code",
   "execution_count": 47,
   "metadata": {},
   "outputs": [],
   "source": []
  },
  {
   "cell_type": "code",
   "execution_count": 45,
   "metadata": {},
   "outputs": [],
   "source": []
  },
  {
   "cell_type": "code",
   "execution_count": 48,
   "metadata": {},
   "outputs": [],
   "source": []
  },
  {
   "cell_type": "code",
   "execution_count": null,
   "metadata": {},
   "outputs": [],
   "source": []
  }
 ],
 "metadata": {
  "kernelspec": {
   "display_name": "Python 3",
   "language": "python",
   "name": "python3"
  },
  "language_info": {
   "codemirror_mode": {
    "name": "ipython",
    "version": 3
   },
   "file_extension": ".py",
   "mimetype": "text/x-python",
   "name": "python",
   "nbconvert_exporter": "python",
   "pygments_lexer": "ipython3",
   "version": "3.6.9"
  }
 },
 "nbformat": 4,
 "nbformat_minor": 4
}
