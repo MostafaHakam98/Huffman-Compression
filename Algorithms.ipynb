{
 "cells": [
  {
   "cell_type": "code",
   "execution_count": 1,
   "metadata": {},
   "outputs": [],
   "source": [
    "import numpy as np\n",
    "import heapq\n",
    "import pandas as pd\n",
    "import sys\n",
    "import os\n",
    "import time\n",
    "import binascii"
   ]
  },
  {
   "cell_type": "code",
   "execution_count": 2,
   "metadata": {
    "scrolled": true
   },
   "outputs": [],
   "source": [
    "class fileClass:\n",
    "    f = None\n",
    "    array = []\n",
    "    data_dict={}\n",
    "    sorted_dict={}\n",
    "    tree=None\n",
    "    def __init__(self,path):\n",
    "        self.f = open(path, \"r\")\n",
    "        \n",
    "        self.array = []\n",
    "        self.data_dict={}\n",
    "        self.sorted_dict={}\n",
    "        self.tree=None\n",
    "    def readFile(self):\n",
    "        line=\" \"\n",
    "        while line!='':\n",
    "            line = self.f.read(1)\n",
    "            self.array.append(line)\n",
    "            if line in self.data_dict.keys():\n",
    "                self.data_dict[line]+=1\n",
    "                continue\n",
    "            self.data_dict[line]=1\n",
    "        self.sort_dict()\n",
    "    def sort_dict(self):\n",
    "        self.sorted_dict = dict(sorted(self.data_dict.items(),key=lambda x:x[1]))\n",
    "\n",
    " "
   ]
  },
  {
   "cell_type": "code",
   "execution_count": null,
   "metadata": {},
   "outputs": [],
   "source": []
  },
  {
   "cell_type": "code",
   "execution_count": 3,
   "metadata": {},
   "outputs": [],
   "source": [
    "class Node:\n",
    "    left=None\n",
    "    right=None\n",
    "    parent=None\n",
    "    val=0\n",
    "    let=None\n",
    "    isRight=''\n",
    "    def __init__(self,val,parent=None,isRight=0,let=None):\n",
    "        self.parent=parent\n",
    "        self.val=val\n",
    "        self.let=let\n",
    "        self.isRight=isRight\n",
    "    def __lt__(self,other):\n",
    "        return self.val<=other.val\n",
    "    def __str__(self):\n",
    "        if self.let!=None:\n",
    "            return \"Node with value=\"+str(self.val)+\" and letter=\"+self.let\n",
    "        else:\n",
    "            return \"Node with value=\"+str(self.val)"
   ]
  },
  {
   "cell_type": "code",
   "execution_count": 4,
   "metadata": {},
   "outputs": [],
   "source": [
    "class Tree:\n",
    "    root=None\n",
    "    new_codes={}\n",
    "    def __init__(self,root):\n",
    "        self.root=root\n",
    "        \n",
    "    def dfs(self,goal):\n",
    "        frontier = [] #using a stack data structure, to perform a last \n",
    "                        #in first out protocol to go deep inside the tree before going the sibling node\n",
    "        frontier.append(self.root)\n",
    "        explored = []\n",
    "        while frontier:\n",
    "            node = frontier.pop()\n",
    "            explored.append(node)\n",
    "            if node.let==goal:\n",
    "                return node\n",
    "            if node.left != None and node.left not in explored:\n",
    "                frontier.append(node.left)\n",
    "            if node.right != None and node.right not in explored:\n",
    "                frontier.append(node.right)\n",
    "                \n",
    "        return None\n",
    "        \n",
    "            \n",
    "        #return None\n",
    "    def get_ancestral_chain(self,node):\n",
    "        current=node\n",
    "        chain=[current]\n",
    "        while current.parent!=None:\n",
    "            current=current.parent\n",
    "            chain.append(current)\n",
    "        return chain\n",
    "    def construct_new_codes(self,old_codes):\n",
    "        for i in list(old_codes.keys()):\n",
    "            node=self.dfs(goal=i)\n",
    "            chain=self.get_ancestral_chain(node)\n",
    "            code=\"\"\n",
    "            while(len(chain)>0):\n",
    "                next_el=chain.pop()\n",
    "                if(next_el.isRight!=None):\n",
    "                    code+=str(next_el.isRight)        \n",
    "            self.new_codes[i]=code\n",
    "            #print(code)\n",
    "            \n",
    "        "
   ]
  },
  {
   "cell_type": "code",
   "execution_count": 5,
   "metadata": {},
   "outputs": [],
   "source": [
    "class Huffman:\n",
    "    file=None\n",
    "    def __init__(self,file):\n",
    "        self.file=file\n",
    "    def construct_file_tree(self):\n",
    "        min_heap=[]\n",
    "        parent=None\n",
    "        for i in file.sorted_dict.keys():\n",
    "            node=Node(val=self.file.sorted_dict[i],let=i)\n",
    "            heapq.heappush(min_heap,node)\n",
    "        while(len(min_heap)>1):\n",
    "            node1=heapq.heappop(min_heap)\n",
    "            node2=heapq.heappop(min_heap)\n",
    "            parent=Node(val=node1.val+node2.val)\n",
    "            node1.parent=node2.parent=parent\n",
    "            if node1<node2:\n",
    "                node1.isRight='0'\n",
    "                node2.isRight='1'\n",
    "                parent.left=node1\n",
    "                parent.right=node2\n",
    "            else:\n",
    "                node1.isRight='1'\n",
    "                node2.isRight='0'\n",
    "                parent.left=node2\n",
    "                parent.right=node1\n",
    "            heapq.heappush(min_heap,parent)\n",
    "        parent.isRight=None\n",
    "        self.file.tree=Tree(parent)            "
   ]
  },
  {
   "cell_type": "code",
   "execution_count": 6,
   "metadata": {},
   "outputs": [
    {
     "data": {
      "text/plain": [
       "1"
      ]
     },
     "execution_count": 6,
     "metadata": {},
     "output_type": "execute_result"
    }
   ],
   "source": [
    "file=fileClass(\"file.txt\")\n",
    "file.readFile()\n",
    "file.data_dict.pop('')\n",
    "file.sorted_dict.pop('')"
   ]
  },
  {
   "cell_type": "code",
   "execution_count": 7,
   "metadata": {},
   "outputs": [],
   "source": [
    "huf=Huffman(file)"
   ]
  },
  {
   "cell_type": "code",
   "execution_count": 8,
   "metadata": {},
   "outputs": [],
   "source": [
    "huf.construct_file_tree()"
   ]
  },
  {
   "cell_type": "code",
   "execution_count": 9,
   "metadata": {},
   "outputs": [],
   "source": [
    "n=file.tree.dfs(goal='a')\n"
   ]
  },
  {
   "cell_type": "code",
   "execution_count": 10,
   "metadata": {},
   "outputs": [
    {
     "name": "stdout",
     "output_type": "stream",
     "text": [
      "Node with value=100\n"
     ]
    }
   ],
   "source": [
    "chain=file.tree.get_ancestral_chain(n)\n",
    "print(chain[1])"
   ]
  },
  {
   "cell_type": "code",
   "execution_count": 11,
   "metadata": {},
   "outputs": [
    {
     "data": {
      "text/plain": [
       "{'f': 5, 'e': 9, 'c': 12, 'b': 13, 'd': 16, 'a': 45}"
      ]
     },
     "execution_count": 11,
     "metadata": {},
     "output_type": "execute_result"
    }
   ],
   "source": [
    "huf.file.sorted_dict"
   ]
  },
  {
   "cell_type": "code",
   "execution_count": 12,
   "metadata": {},
   "outputs": [
    {
     "data": {
      "text/plain": [
       "{'f': 5, 'e': 9, 'c': 12, 'b': 13, 'd': 16, 'a': 45}"
      ]
     },
     "execution_count": 12,
     "metadata": {},
     "output_type": "execute_result"
    }
   ],
   "source": [
    "huf.file.sorted_dict"
   ]
  },
  {
   "cell_type": "code",
   "execution_count": 13,
   "metadata": {},
   "outputs": [],
   "source": [
    "def compress(file):\n",
    "    file.tree.construct_new_codes(file.data_dict)\n",
    "    compressed_file = open(\"compressed_file.bin\",'wb')\n",
    "    \n",
    "    flag_array = [] #array to know which characters are already printed\n",
    "    \n",
    "    encoded_bits = ''\n",
    "    \n",
    "    character_frame = pd.DataFrame(columns = [\"Byte\",\"Code\",\"New Code\"])\n",
    "    \n",
    "    for character in file.array:\n",
    "        if(character==''):\n",
    "            break\n",
    "        encoded_bits = encoded_bits + str(file.tree.new_codes[character])\n",
    "        \n",
    "        if(character not in flag_array):\n",
    "            character_frame=character_frame.append({\"Byte\":character,\"Code\":str(bin(ord(character)))[2:],\n",
    "                                    \"New Code\":file.tree.new_codes[character]},ignore_index=True)\n",
    "                        \n",
    "            flag_array.append(character)\n",
    "    \n",
    "    print(character_frame)\n",
    "    \n",
    "    no_of_pads = 0\n",
    "    if len(encoded_bits)%8!=0:\n",
    "        for i in range(8-len(encoded_bits)%8):\n",
    "            encoded_bits + '0'                   #padding\n",
    "            no_of_pads += 1\n",
    "    \n",
    "    encoded_bits = encoded_bits + '{0:08b}'.format( no_of_pads )\n",
    "    \n",
    "    byte = ''\n",
    "    test = ''\n",
    "    for bit in encoded_bits:    \n",
    "        byte += bit\n",
    "        if(len(byte)==8):\n",
    "            compressed_file.write( int((byte),2).to_bytes(1,'little') )\n",
    "            byte = ''\n",
    "            \n",
    "    compressed_file.close()"
   ]
  },
  {
   "cell_type": "code",
   "execution_count": 14,
   "metadata": {},
   "outputs": [
    {
     "name": "stdout",
     "output_type": "stream",
     "text": [
      "  Byte     Code New Code\n",
      "0    a  1100001        0\n",
      "1    b  1100010      101\n",
      "2    c  1100011      100\n",
      "3    d  1100100      111\n",
      "4    e  1100101     1101\n",
      "5    f  1100110     1100\n",
      "Execution time :  29 ms\n"
     ]
    }
   ],
   "source": [
    "start_time = time.time()\n",
    "compress(huf.file)\n",
    "print('Execution time : ',int((time.time()-start_time)*1000),'ms')"
   ]
  },
  {
   "cell_type": "code",
   "execution_count": 15,
   "metadata": {},
   "outputs": [
    {
     "name": "stdout",
     "output_type": "stream",
     "text": [
      "Compression ratio :  29.00 %\n"
     ]
    }
   ],
   "source": [
    "original_file_size = os.path.getsize('file.txt') \n",
    "compr_file_size = os.path.getsize('compressed_file.bin')\n",
    "print('Compression ratio : ','{:.2f}'.format(compr_file_size/original_file_size*100),'%')"
   ]
  },
  {
   "cell_type": "code",
   "execution_count": 16,
   "metadata": {},
   "outputs": [],
   "source": [
    "def decompress(compressed_file, bit_codes_dict):\n",
    "    decompressed_file = open(\"decompressed_file.txt\",'w')\n",
    "    encoded_bits = \"\"\n",
    "    \n",
    "    byte = compressed_file.read(1)\n",
    "    while len(byte) > 0:\n",
    "        byte = ord(byte)\n",
    "        bits = bin(byte)[2:].rjust(8,'0')\n",
    "        encoded_bits = encoded_bits + bits\n",
    "        byte = compressed_file.read(1)\n",
    "        \n",
    "    padding_info = int(encoded_bits[-8:],2)\n",
    "    encoded_bits = encoded_bits[:-8]\n",
    "    \n",
    "    if padding_info > 0:\n",
    "        encoded_bits = encoded_bits[:-padding_info]\n",
    "    \n",
    "    bit_string = ''\n",
    "    for bit in encoded_bits:\n",
    "        bit_string += bit\n",
    "        if bit_string in bit_codes_dict.values():\n",
    "            decompressed_file.write( list(bit_codes_dict.keys())[list(bit_codes_dict.values()).index(bit_string)] )\n",
    "            bit_string = ''\n",
    "\n",
    "    decompressed_file.close()"
   ]
  },
  {
   "cell_type": "code",
   "execution_count": 17,
   "metadata": {},
   "outputs": [],
   "source": [
    "comp_f = open(\"compressed_file.bin\",'rb')\n",
    "decompress(comp_f,huf.file.tree.new_codes)"
   ]
  },
  {
   "cell_type": "code",
   "execution_count": 18,
   "metadata": {},
   "outputs": [
    {
     "data": {
      "text/plain": [
       "{'a': '0', 'b': '101', 'c': '100', 'd': '111', 'e': '1101', 'f': '1100'}"
      ]
     },
     "execution_count": 18,
     "metadata": {},
     "output_type": "execute_result"
    }
   ],
   "source": [
    "huf.file.tree.new_codes"
   ]
  },
  {
   "cell_type": "code",
   "execution_count": null,
   "metadata": {},
   "outputs": [],
   "source": []
  },
  {
   "cell_type": "code",
   "execution_count": null,
   "metadata": {},
   "outputs": [],
   "source": []
  },
  {
   "cell_type": "code",
   "execution_count": null,
   "metadata": {},
   "outputs": [],
   "source": []
  },
  {
   "cell_type": "code",
   "execution_count": null,
   "metadata": {},
   "outputs": [],
   "source": []
  },
  {
   "cell_type": "code",
   "execution_count": null,
   "metadata": {},
   "outputs": [],
   "source": []
  },
  {
   "cell_type": "code",
   "execution_count": null,
   "metadata": {},
   "outputs": [],
   "source": []
  },
  {
   "cell_type": "code",
   "execution_count": null,
   "metadata": {},
   "outputs": [],
   "source": []
  },
  {
   "cell_type": "code",
   "execution_count": null,
   "metadata": {},
   "outputs": [],
   "source": []
  },
  {
   "cell_type": "code",
   "execution_count": null,
   "metadata": {},
   "outputs": [],
   "source": []
  },
  {
   "cell_type": "code",
   "execution_count": null,
   "metadata": {},
   "outputs": [],
   "source": []
  },
  {
   "cell_type": "code",
   "execution_count": null,
   "metadata": {},
   "outputs": [],
   "source": []
  },
  {
   "cell_type": "code",
   "execution_count": null,
   "metadata": {},
   "outputs": [],
   "source": []
  }
 ],
 "metadata": {
  "kernelspec": {
   "display_name": "Python 3",
   "language": "python",
   "name": "python3"
  },
  "language_info": {
   "codemirror_mode": {
    "name": "ipython",
    "version": 3
   },
   "file_extension": ".py",
   "mimetype": "text/x-python",
   "name": "python",
   "nbconvert_exporter": "python",
   "pygments_lexer": "ipython3",
   "version": "3.6.9"
  }
 },
 "nbformat": 4,
 "nbformat_minor": 4
}
